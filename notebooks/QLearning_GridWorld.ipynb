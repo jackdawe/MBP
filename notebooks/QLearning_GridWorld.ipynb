{
 "cells": [
  {
   "cell_type": "code",
   "execution_count": 47,
   "metadata": {},
   "outputs": [],
   "source": [
    "import numpy as np\n",
    "import matplotlib.pyplot as plt\n",
    "mapTag = \"2_8\"\n",
    "nameTag = \"E025G090_173\"\n",
    "path = \"../GridWorld/Map\" + mapTag + \"/\"\n",
    "import PyQt5\n",
    "%matplotlib qt"
   ]
  },
  {
   "cell_type": "code",
   "execution_count": 48,
   "metadata": {},
   "outputs": [],
   "source": [
    "def loadData(filename):\n",
    "    f = open(filename,'r')\n",
    "    data = []\n",
    "    lines = f.readlines()\n",
    "    for line in lines:\n",
    "        data.append(float(line))\n",
    "    f.close()\n",
    "    return np.array(data)\n",
    "\n",
    "def plotData(data):\n",
    "    av = [np.mean(data[:i]) for i in range(len(data))]\n",
    "    xaxis = [i for i in range(len(data))]\n",
    "    E = 0.25\n",
    "    epsilon = [E*np.exp(-i*5/len(data)) for i in range(len(data))]\n",
    "    plt.plot(xaxis,data)\n",
    "    plt.plot(xaxis,av)\n",
    "    plt.plot(xaxis,epsilon)               \n",
    "    plt.show()"
   ]
  },
  {
   "cell_type": "code",
   "execution_count": 49,
   "metadata": {},
   "outputs": [],
   "source": [
    "data = loadData(path+\"Rewards/\"+nameTag)\n",
    "plotData(data)"
   ]
  },
  {
   "cell_type": "code",
   "execution_count": null,
   "metadata": {},
   "outputs": [],
   "source": [
    "print(data)"
   ]
  },
  {
   "cell_type": "code",
   "execution_count": 62,
   "metadata": {},
   "outputs": [],
   "source": [
    "size = 16;\n",
    "def foo1(i,j):\n",
    "    global size\n",
    "    return (i*size+j)*4\n",
    "def foo2(a):\n",
    "    global size\n",
    "    a//=4\n",
    "    i = a//size\n",
    "    j = a%size\n",
    "    return i,j"
   ]
  },
  {
   "cell_type": "code",
   "execution_count": 63,
   "metadata": {},
   "outputs": [
    {
     "data": {
      "text/plain": [
       "124"
      ]
     },
     "execution_count": 63,
     "metadata": {},
     "output_type": "execute_result"
    }
   ],
   "source": [
    "foo1(1,15)"
   ]
  },
  {
   "cell_type": "code",
   "execution_count": 66,
   "metadata": {},
   "outputs": [
    {
     "name": "stdout",
     "output_type": "stream",
     "text": [
      "(5, 1)\n"
     ]
    }
   ],
   "source": [
    "print(foo2(327))"
   ]
  },
  {
   "cell_type": "code",
   "execution_count": null,
   "metadata": {},
   "outputs": [],
   "source": []
  }
 ],
 "metadata": {
  "kernelspec": {
   "display_name": "Python 3",
   "language": "python",
   "name": "python3"
  },
  "language_info": {
   "codemirror_mode": {
    "name": "ipython",
    "version": 3
   },
   "file_extension": ".py",
   "mimetype": "text/x-python",
   "name": "python",
   "nbconvert_exporter": "python",
   "pygments_lexer": "ipython3",
   "version": "3.6.8"
  }
 },
 "nbformat": 4,
 "nbformat_minor": 2
}
